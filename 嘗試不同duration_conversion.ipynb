{
  "nbformat": 4,
  "nbformat_minor": 0,
  "metadata": {
    "colab": {
      "provenance": [],
      "authorship_tag": "ABX9TyPKLqkyqv04FhBwrqNlwQJd",
      "include_colab_link": true
    },
    "kernelspec": {
      "name": "python3",
      "display_name": "Python 3"
    },
    "language_info": {
      "name": "python"
    }
  },
  "cells": [
    {
      "cell_type": "markdown",
      "metadata": {
        "id": "view-in-github",
        "colab_type": "text"
      },
      "source": [
        "<a href=\"https://colab.research.google.com/github/kogby/DA_KKTV/blob/neo_branch/%E5%98%97%E8%A9%A6%E4%B8%8D%E5%90%8Cduration_conversion.ipynb\" target=\"_parent\"><img src=\"https://colab.research.google.com/assets/colab-badge.svg\" alt=\"Open In Colab\"/></a>"
      ]
    },
    {
      "cell_type": "markdown",
      "source": [
        "### 套件環境"
      ],
      "metadata": {
        "id": "nXrxxCnngZ7W"
      }
    },
    {
      "cell_type": "code",
      "execution_count": 6,
      "metadata": {
        "colab": {
          "base_uri": "https://localhost:8080/"
        },
        "id": "QcCLUvacgUsx",
        "outputId": "c04b8102-78b4-4b26-8bdd-27f9b8ff04b3"
      },
      "outputs": [
        {
          "output_type": "stream",
          "name": "stdout",
          "text": [
            "Mounted at /content/drive\n"
          ]
        },
        {
          "output_type": "execute_result",
          "data": {
            "text/plain": [
              "['嘗試不同duration_conversion.ipynb',\n",
              " 'data',\n",
              " 'models',\n",
              " 'preprocessed_output',\n",
              " 'large0520.ipynb',\n",
              " '過往東東',\n",
              " '0521KKTV (light).ipynb',\n",
              " 'submit.csv',\n",
              " '0528model.ipynb']"
            ]
          },
          "metadata": {},
          "execution_count": 6
        }
      ],
      "source": [
        "import os\n",
        "from google.colab import drive\n",
        "drive.mount('/content/drive')\n",
        "\n",
        "os.chdir('/content/drive/MyDrive/Colab/資料分析期末') #切換該目錄\n",
        "os.listdir() #確認目錄內容"
      ]
    },
    {
      "cell_type": "code",
      "source": [
        "# always needed\n",
        "import math, os, random, csv\n",
        "import pandas as pd\n",
        "import numpy as np\n",
        "\n",
        "# log and save\n",
        "import json, logging, pickle, sys, shutil, copy\n",
        "# torch\n",
        "import torch\n",
        "import torch.nn\n",
        "from torch.nn import Conv2d, MaxPool2d, Flatten, Linear, ReLU\n",
        "import torchvision\n",
        "from tqdm.auto import tqdm\n",
        "import torch.nn as nn\n",
        "import torch.nn.functional as F\n",
        "import torch.optim as optim\n",
        "from torch.utils.data import DataLoader,ConcatDataset\n",
        "from torchvision import datasets, models, transforms\n",
        "from torch.optim.lr_scheduler import StepLR\n",
        "from torch.utils.data import Dataset, DataLoader\n",
        "from torch.optim import lr_scheduler\n",
        "\n",
        "# For plotting learning curve\n",
        "from torch.utils.tensorboard import SummaryWriter\n",
        "%matplotlib inline\n",
        "import seaborn as sns\n",
        "\n",
        "# others\n",
        "import matplotlib.pyplot as plt\n",
        "from PIL import Image\n",
        "\n",
        "# sklearn\n",
        "from sklearn import preprocessing\n",
        "\n",
        "# statistics\n",
        "from scipy import stats\n",
        "from statsmodels.stats.outliers_influence import variance_inflation_factor\n",
        "import statistics\n",
        "\n",
        "# seeds\n",
        "def same_seeds(seed):\n",
        "    torch.manual_seed(seed)\n",
        "    if torch.cuda.is_available():\n",
        "        torch.cuda.manual_seed(seed)\n",
        "        torch.cuda.manual_seed_all(seed)\n",
        "    np.random.seed(seed)\n",
        "    random.seed(seed)\n",
        "    torch.backends.cudnn.benchmark = False\n",
        "    torch.backends.cudnn.deterministic = True"
      ],
      "metadata": {
        "id": "G3o-aCrwgcY0"
      },
      "execution_count": 7,
      "outputs": []
    },
    {
      "cell_type": "code",
      "source": [
        "device = torch.device('cuda' if torch.cuda.is_available() else 'cpu')\n",
        "print('Using device:', device)"
      ],
      "metadata": {
        "colab": {
          "base_uri": "https://localhost:8080/"
        },
        "id": "vN-UW0Qmgfj-",
        "outputId": "1a7bf5d5-64d8-4a73-a22f-56b991820d2d"
      },
      "execution_count": 8,
      "outputs": [
        {
          "output_type": "stream",
          "name": "stdout",
          "text": [
            "Using device: cpu\n"
          ]
        }
      ]
    },
    {
      "cell_type": "markdown",
      "source": [
        "### 查看原始duration分佈"
      ],
      "metadata": {
        "id": "LwVfDZNfpgpW"
      }
    },
    {
      "cell_type": "code",
      "source": [
        "ori = np.load('./preprocessed_output/duration_data_origin.npy')"
      ],
      "metadata": {
        "id": "htROdEMZpkgS"
      },
      "execution_count": 9,
      "outputs": []
    },
    {
      "cell_type": "code",
      "source": [
        "ori = ori.flatten()\n",
        "ori.shape"
      ],
      "metadata": {
        "colab": {
          "base_uri": "https://localhost:8080/"
        },
        "id": "Wg3LmvkCp_Yy",
        "outputId": "89a10a91-503e-45a3-8517-c88f24257626"
      },
      "execution_count": 10,
      "outputs": [
        {
          "output_type": "execute_result",
          "data": {
            "text/plain": [
              "(31556560,)"
            ]
          },
          "metadata": {},
          "execution_count": 10
        }
      ]
    },
    {
      "cell_type": "code",
      "source": [
        "filtered_values = ori[(ori >= 1) & (ori <= 30000)]"
      ],
      "metadata": {
        "id": "x3D0p9Suq2i7"
      },
      "execution_count": 11,
      "outputs": []
    },
    {
      "cell_type": "code",
      "source": [
        "plt.hist(filtered_values, bins=30)  # Adjust the number of bins as needed\n",
        "plt.xlabel('Value')\n",
        "plt.ylabel('Frequency')\n",
        "plt.title('Number Distribution')\n",
        "plt.show()"
      ],
      "metadata": {
        "colab": {
          "base_uri": "https://localhost:8080/",
          "height": 472
        },
        "id": "1ZFKLlGzqVCu",
        "outputId": "a34b49f9-35de-4615-8415-e79e16c8c2ba"
      },
      "execution_count": 12,
      "outputs": [
        {
          "output_type": "display_data",
          "data": {
            "text/plain": [
              "<Figure size 640x480 with 1 Axes>"
            ],
            "image/png": "[encoded data removed]"
          },
          "metadata": {}
        }
      ]
    },
    {
      "cell_type": "markdown",
      "source": [
        "## 正文"
      ],
      "metadata": {
        "id": "wdIr022UgnyV"
      }
    },
    {
      "cell_type": "markdown",
      "source": [
        "### Conversion Function"
      ],
      "metadata": {
        "id": "OJ5IxECNuFuf"
      }
    },
    {
      "cell_type": "code",
      "source": [
        "60**(0.3) / (28800**0.2)"
      ],
      "metadata": {
        "colab": {
          "base_uri": "https://localhost:8080/"
        },
        "id": "-la-34_7jbK3",
        "outputId": "0dcc9444-c4ed-42e4-e5e4-51b75767ff88"
      },
      "execution_count": 13,
      "outputs": [
        {
          "output_type": "execute_result",
          "data": {
            "text/plain": [
              "0.43809356856576737"
            ]
          },
          "metadata": {},
          "execution_count": 13
        }
      ]
    },
    {
      "cell_type": "code",
      "source": [
        "# k = 0.15\n",
        "# def modify_long(n):\n",
        "#     m = n**(k) / (28800**k)\n",
        "#     return max(0, min(1, m))\n",
        "# def modify_short(n):\n",
        "#     m = n**(k) / (14400**k)\n",
        "#     return max(0, min(1, m))"
      ],
      "metadata": {
        "id": "c7fDESj7uEw-"
      },
      "execution_count": 14,
      "outputs": []
    },
    {
      "cell_type": "code",
      "source": [
        "k = 0.33\n",
        "kk = 0.23\n",
        "def modify_long(n):\n",
        "    m = n**(k) / (28800**kk)\n",
        "    return max(0, min(1, m))\n",
        "def modify_short(n):\n",
        "    m = n**(k) / (14400**kk)\n",
        "    return max(0, min(1, m))"
      ],
      "metadata": {
        "id": "LTv-QWLYswFK"
      },
      "execution_count": 26,
      "outputs": []
    },
    {
      "cell_type": "markdown",
      "source": [
        "### test source"
      ],
      "metadata": {
        "id": "AmLkM0aOgqmZ"
      }
    },
    {
      "cell_type": "code",
      "source": [
        "duration_mtx = np.load('./preprocessed_output/test_duration_data_origin.npy')\n",
        "short_slot = (np.arange(2, duration_mtx.shape[1], 4).reshape(-1, 1) + np.arange(2)).flatten()\n",
        "long_slot = (np.arange(0, duration_mtx.shape[1], 4).reshape(-1, 1) + np.arange(2)).flatten()\n",
        "\n",
        "for i, data in enumerate(duration_mtx):\n",
        "    for idx in short_slot:\n",
        "        duration_mtx[i][idx] = modify_short(duration_mtx[i][idx])\n",
        "    for idx in long_slot:\n",
        "        duration_mtx[i][idx] = modify_long(duration_mtx[i][idx])\n",
        "np.save('./preprocessed_output/test_duration_data_scaled.npy', duration_mtx)"
      ],
      "metadata": {
        "id": "-9pBsmV8gnVt"
      },
      "execution_count": 27,
      "outputs": []
    },
    {
      "cell_type": "markdown",
      "source": [
        "### train source"
      ],
      "metadata": {
        "id": "eCuI3S67ug5x"
      }
    },
    {
      "cell_type": "code",
      "source": [
        "duration_mtx = np.load('./preprocessed_output/duration_data_origin.npy')\n",
        "short_slot = (np.arange(2, duration_mtx.shape[1], 4).reshape(-1, 1) + np.arange(2)).flatten()\n",
        "long_slot = (np.arange(0, duration_mtx.shape[1], 4).reshape(-1, 1) + np.arange(2)).flatten()\n",
        "\n",
        "for i, data in enumerate(duration_mtx):\n",
        "    for idx in short_slot:\n",
        "        duration_mtx[i][idx] = modify_short(duration_mtx[i][idx])\n",
        "    for idx in long_slot:\n",
        "        duration_mtx[i][idx] = modify_long(duration_mtx[i][idx])\n",
        "np.save('./preprocessed_output/duration_data_scaled.npy', duration_mtx)"
      ],
      "metadata": {
        "id": "71YmNNPutNky"
      },
      "execution_count": 28,
      "outputs": []
    },
    {
      "cell_type": "markdown",
      "source": [
        "### train target"
      ],
      "metadata": {
        "id": "_wFzt3CDu8KF"
      }
    },
    {
      "cell_type": "code",
      "source": [
        "duration_mtx = np.load('./preprocessed_output/train_target_duration_origin.npy')\n",
        "short_slot = (np.arange(2, duration_mtx.shape[1], 4).reshape(-1, 1) + np.arange(2)).flatten()\n",
        "long_slot = (np.arange(0, duration_mtx.shape[1], 4).reshape(-1, 1) + np.arange(2)).flatten()\n",
        "for i, data in enumerate(duration_mtx):\n",
        "    for idx in short_slot:\n",
        "        duration_mtx[i][idx] = modify_short(duration_mtx[i][idx])\n",
        "    for idx in long_slot:\n",
        "        duration_mtx[i][idx] = modify_long(duration_mtx[i][idx])\n",
        "        \n",
        "np.save('./preprocessed_output/train_duration_target.npy', duration_mtx)"
      ],
      "metadata": {
        "id": "lIVhP544H7Q5"
      },
      "execution_count": 29,
      "outputs": []
    },
    {
      "cell_type": "code",
      "source": [
        "ori = duration_mtx.flatten()\n",
        "filtered_values = ori[(ori >= 0.001) & (ori <= 30000)]\n",
        "plt.hist(filtered_values, bins=30)  # Adjust the number of bins as needed\n",
        "plt.xlabel('Value')\n",
        "plt.ylabel('Frequency')\n",
        "plt.title('Number Distribution')\n",
        "plt.show()"
      ],
      "metadata": {
        "colab": {
          "base_uri": "https://localhost:8080/",
          "height": 472
        },
        "id": "ynT9KKqoj6eE",
        "outputId": "ca41d87b-14a6-4bbf-d5f3-5ade53115963"
      },
      "execution_count": 30,
      "outputs": [
        {
          "output_type": "display_data",
          "data": {
            "text/plain": [
              "<Figure size 640x480 with 1 Axes>"
            ],
            "image/png": "[encoded data removed]"
          },
          "metadata": {}
        }
      ]
    },
    {
      "cell_type": "code",
      "source": [],
      "metadata": {
        "id": "M0e11sSqImSi"
      },
      "execution_count": 24,
      "outputs": []
    },
    {
      "cell_type": "code",
      "source": [
        "# df = pd.read_csv(\"./data/train_target_events.csv\")\n",
        "# df['event_time'] = pd.to_datetime(df['event_time'], unit='s')\n",
        "# start_date = pd.to_datetime('2022-09-17')\n",
        "# end_date = pd.to_datetime('2022-09-24')\n",
        "\n",
        "# num_weeks = (end_date - start_date).days / 7\n",
        "# amount_ppl = len(df['user_id'].unique())\n",
        "# time_slots = []\n",
        "# for i in range(7):\n",
        "#     # 01:00-09:00\n",
        "#     start_slot = start_date + pd.DateOffset(hours=i*24) + pd.DateOffset(hours=1)\n",
        "#     end_slot = start_date + pd.DateOffset(hours=i*24) + pd.DateOffset(hours=9)\n",
        "#     time_slots.append((start_slot, end_slot))\n",
        "    \n",
        "#     # 09:00-17:00\n",
        "#     start_slot = start_date + pd.DateOffset(hours=i*24) + pd.DateOffset(hours=9)\n",
        "#     end_slot = start_date + pd.DateOffset(hours=i*24) + pd.DateOffset(hours=17)\n",
        "#     time_slots.append((start_slot, end_slot))\n",
        "    \n",
        "#     # 17:00-21:00\n",
        "#     start_slot = start_date + pd.DateOffset(hours=i*24) + pd.DateOffset(hours=17)\n",
        "#     end_slot = start_date + pd.DateOffset(hours=i*24) + pd.DateOffset(hours=21)\n",
        "#     time_slots.append((start_slot, end_slot))\n",
        "    \n",
        "#     # 21:00 to next day 01:00\n",
        "#     start_slot = start_date + pd.DateOffset(hours=i*24) + pd.DateOffset(hours=21)\n",
        "#     end_slot = start_date + pd.DateOffset(hours=(i+1)*24) + pd.DateOffset(hours=1)\n",
        "#     time_slots.append((start_slot, end_slot))\n",
        "\n",
        "# num_slots = 28\n",
        "# duration_mtx = np.zeros((amount_ppl, num_slots))\n",
        "# for current_slot_index, slot in enumerate(time_slots): #走過全部的slot\n",
        "    \n",
        "#     start_slot = slot[0]\n",
        "#     end_slot = slot[1]\n",
        "    \n",
        "#     #if(current_slot_index == 2) : break\n",
        "#     print(f'slot_start: {start_slot}, slot_end: {end_slot}')\n",
        "\n",
        "#     slot_df = df[(df['event_time'] >= start_slot) & (df['event_time'] <= end_slot)] #所有屬於這個slot的data\n",
        "\n",
        "#     for idx, row in slot_df.iterrows(): #每個row代表這個slot的其中一筆user的使用資料\n",
        "#         user_id = row['user_id']\n",
        "#         duration = float(row['played_duration'])\n",
        "#         current_time = row['event_time']\n",
        "\n",
        "#         '''要處理duration時長過多溢出的問題, 理論上每段duration在一個slot最高是3600*8=28800\n",
        "#             Minimum played_duration: 1,\n",
        "#             Maximum played_duration: 2065490'''\n",
        "#         tmp_slot = current_slot_index #這段duration應該要加到user_id的哪一個slot\n",
        "\n",
        "#         time_diff_seconds = (current_time - start_slot).total_seconds() #從這個slot的起點已經過了多久了到這個event_time\n",
        "#         minus_value = min(time_diff_seconds, duration)\n",
        "#         duration_mtx[user_id][tmp_slot] += minus_value\n",
        "#         duration -= minus_value\n",
        "#         tmp_slot -= 1 #準備進入之前迴圈\n",
        "#         while(duration > 0 and tmp_slot >= 0):\n",
        "#             this_slot_duration = time_slots[tmp_slot][1] - time_slots[tmp_slot][0]\n",
        "#             minus_value = min(this_slot_duration.total_seconds(), duration) #看是duration剩餘的多還是這個slot總時間\n",
        "#             duration_mtx[user_id][tmp_slot] += minus_value\n",
        "#             duration -= minus_value\n",
        "#             tmp_slot -= 1\n",
        "# np.save('./preprocessed_output/train_target_duration_origin.npy', duration_mtx)"
      ],
      "metadata": {
        "id": "lG_CxoEwu_Yj"
      },
      "execution_count": 25,
      "outputs": []
    },
    {
      "cell_type": "code",
      "source": [],
      "metadata": {
        "id": "ZCnpbrafZP3n"
      },
      "execution_count": 25,
      "outputs": []
    }
  ]
}